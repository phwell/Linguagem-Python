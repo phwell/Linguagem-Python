{
 "cells": [
  {
   "cell_type": "markdown",
   "metadata": {
    "collapsed": true
   },
   "source": [
    "# Exercícios\n"
   ]
  },
  {
   "cell_type": "markdown",
   "metadata": {},
   "source": [
    "**Use <code>for</code>, .split(), e <code>if</code> para criar uma declaração que imprima palavras que começam com's':**"
   ]
  },
  {
   "cell_type": "code",
   "execution_count": 5,
   "metadata": {},
   "outputs": [],
   "source": [
    "st = 'Imprima apenas as palavras que começam com s nesta frase'"
   ]
  },
  {
   "cell_type": "code",
   "execution_count": 60,
   "metadata": {},
   "outputs": [],
   "source": [
    "#Implemente aqui\n",
    "def contaS(st):\n",
    "    nr = 0\n",
    "    for palavra in st.lower().split():\n",
    "        if palavra[0] == 's':\n",
    "            nr += 1\n",
    "            print(palavra)\n",
    "    return nr\n"
   ]
  },
  {
   "cell_type": "code",
   "execution_count": 61,
   "metadata": {},
   "outputs": [
    {
     "name": "stdout",
     "output_type": "stream",
     "text": [
      "s\n",
      "spalavras\n",
      "s\n"
     ]
    },
    {
     "data": {
      "text/plain": [
       "3"
      ]
     },
     "execution_count": 61,
     "metadata": {},
     "output_type": "execute_result"
    }
   ],
   "source": [
    "contaS('Imprima s apenas as spalavras que começam com s nesta frase')"
   ]
  },
  {
   "cell_type": "markdown",
   "metadata": {},
   "source": [
    "**Use range() para imprimir todos os números pares de 0 to 10.**"
   ]
  },
  {
   "cell_type": "code",
   "execution_count": 70,
   "metadata": {},
   "outputs": [
    {
     "name": "stdout",
     "output_type": "stream",
     "text": [
      "0\n",
      "2\n",
      "4\n",
      "6\n",
      "8\n",
      "10\n"
     ]
    }
   ],
   "source": [
    "#Implemente aqui\n",
    "for nr in range(11):\n",
    "    resto = nr % 2\n",
    "\n",
    "    if resto == 0:\n",
    "        print(nr)"
   ]
  },
  {
   "cell_type": "markdown",
   "metadata": {},
   "source": [
    "___\n",
    "**Use uma compreensão de lista para criar uma lista de todos os números entre 1 e 50 que são divisíveis por 3.**"
   ]
  },
  {
   "cell_type": "code",
   "execution_count": 77,
   "metadata": {},
   "outputs": [
    {
     "name": "stdout",
     "output_type": "stream",
     "text": [
      "[0, 3, 6, 9, 12, 15, 18, 21, 24, 27, 30, 33, 36, 39, 42, 45, 48]\n"
     ]
    }
   ],
   "source": [
    "#Implemente aqui []\n",
    "lista_3 = []\n",
    "for nr in range(51):\n",
    "    resto = nr % 3\n",
    "    if resto == 0:\n",
    "        lista_3.append(nr)\n",
    "print(lista_3)"
   ]
  },
  {
   "cell_type": "markdown",
   "metadata": {},
   "source": [
    "** Passe pela string abaixo e, se o comprimento de uma palavra for impresso \"frase!\" **"
   ]
  },
  {
   "cell_type": "code",
   "execution_count": 79,
   "metadata": {},
   "outputs": [],
   "source": [
    "st = 'Imprima todas as palavras nesta frase com um número par de letras'"
   ]
  },
  {
   "cell_type": "code",
   "execution_count": 88,
   "metadata": {},
   "outputs": [],
   "source": [
    "#Implemente aqui\n",
    "def palavra_par(st):  \n",
    "    nr = 1\n",
    "    for palavra in st.split():\n",
    "        if (len(palavra) % 2) == 0:\n",
    "            print(palavra,nr)\n",
    "            nr += 1\n",
    "    return nr"
   ]
  },
  {
   "cell_type": "code",
   "execution_count": 89,
   "metadata": {},
   "outputs": [
    {
     "name": "stdout",
     "output_type": "stream",
     "text": [
      "as 1\n",
      "palavras 2\n",
      "um 3\n",
      "número 4\n",
      "de 5\n",
      "letras 6\n"
     ]
    },
    {
     "data": {
      "text/plain": [
       "7"
      ]
     },
     "execution_count": 89,
     "metadata": {},
     "output_type": "execute_result"
    }
   ],
   "source": [
    "palavra_par(st)"
   ]
  },
  {
   "cell_type": "markdown",
   "metadata": {},
   "source": [
    "**Escreva um programa que imprima os números inteiros de 1 a 100. Mas, para múltiplos de três, imprima \"Três\" em vez do número, e para os múltiplos de cinco, imprima \"Cinco\". Para números múltiplos de três e cinco, imprima \"TrêsCinco\".**"
   ]
  },
  {
   "cell_type": "code",
   "execution_count": 23,
   "metadata": {},
   "outputs": [],
   "source": [
    "#Implemente aqui\n",
    "def multiplusNr(total):  \n",
    "    for nr in range(total):\n",
    "        if ((nr % 3 == 0) and  (nr % 5 == 0)):\n",
    "            print(' multiplo de três e cinco')\n",
    "        elif (nr % 5 == 0):\n",
    "            print(' multiplo de cinco')\n",
    "        elif (nr % 3 == 0):\n",
    "            print(' multiplo de três')    \n",
    "        else:\n",
    "            print(nr)\n",
    " \n",
    "    return(nr)"
   ]
  },
  {
   "cell_type": "code",
   "execution_count": 25,
   "metadata": {},
   "outputs": [
    {
     "name": "stdout",
     "output_type": "stream",
     "text": [
      " multiplo de três e cinco\n",
      "1\n",
      "2\n",
      " multiplo de três\n",
      "4\n",
      " multiplo de cinco\n",
      " multiplo de três\n",
      "7\n",
      "8\n",
      " multiplo de três\n",
      " multiplo de cinco\n",
      "11\n",
      " multiplo de três\n",
      "13\n",
      "14\n",
      " multiplo de três e cinco\n",
      "16\n",
      "17\n",
      " multiplo de três\n",
      "19\n",
      " multiplo de cinco\n",
      " multiplo de três\n",
      "22\n",
      "23\n",
      " multiplo de três\n",
      " multiplo de cinco\n",
      "26\n",
      " multiplo de três\n",
      "28\n",
      "29\n",
      " multiplo de três e cinco\n",
      "31\n",
      "32\n",
      " multiplo de três\n",
      "34\n",
      " multiplo de cinco\n",
      " multiplo de três\n",
      "37\n",
      "38\n",
      " multiplo de três\n",
      " multiplo de cinco\n",
      "41\n",
      " multiplo de três\n",
      "43\n",
      "44\n",
      " multiplo de três e cinco\n",
      "46\n",
      "47\n",
      " multiplo de três\n",
      "49\n",
      " multiplo de cinco\n",
      " multiplo de três\n",
      "52\n",
      "53\n",
      " multiplo de três\n",
      " multiplo de cinco\n",
      "56\n",
      " multiplo de três\n",
      "58\n",
      "59\n",
      " multiplo de três e cinco\n",
      "61\n",
      "62\n",
      " multiplo de três\n",
      "64\n",
      " multiplo de cinco\n",
      " multiplo de três\n",
      "67\n",
      "68\n",
      " multiplo de três\n",
      " multiplo de cinco\n",
      "71\n",
      " multiplo de três\n",
      "73\n",
      "74\n",
      " multiplo de três e cinco\n",
      "76\n",
      "77\n",
      " multiplo de três\n",
      "79\n",
      " multiplo de cinco\n",
      " multiplo de três\n",
      "82\n",
      "83\n",
      " multiplo de três\n",
      " multiplo de cinco\n",
      "86\n",
      " multiplo de três\n",
      "88\n",
      "89\n",
      " multiplo de três e cinco\n",
      "91\n",
      "92\n",
      " multiplo de três\n",
      "94\n",
      " multiplo de cinco\n",
      " multiplo de três\n",
      "97\n",
      "98\n",
      " multiplo de três\n",
      " multiplo de cinco\n"
     ]
    },
    {
     "data": {
      "text/plain": [
       "100"
      ]
     },
     "execution_count": 25,
     "metadata": {},
     "output_type": "execute_result"
    }
   ],
   "source": [
    "multiplusNr(101)"
   ]
  },
  {
   "cell_type": "markdown",
   "metadata": {},
   "source": [
    "**Use Compreensão da lista para criar uma lista das primeiras letras de cada palavra na sequência abaixo:**"
   ]
  },
  {
   "cell_type": "code",
   "execution_count": 54,
   "metadata": {},
   "outputs": [],
   "source": [
    "st = 'Crie uma lista das primeiras letras de cada palavra nesta sequência'"
   ]
  },
  {
   "cell_type": "code",
   "execution_count": 55,
   "metadata": {},
   "outputs": [],
   "source": [
    "#Implemente aqui\n",
    "lst = st.split()\n",
    "lst1 = [x[0] for x in lst]"
   ]
  },
  {
   "cell_type": "code",
   "execution_count": 56,
   "metadata": {},
   "outputs": [
    {
     "data": {
      "text/plain": [
       "['Crie',\n",
       " 'uma',\n",
       " 'lista',\n",
       " 'das',\n",
       " 'primeiras',\n",
       " 'letras',\n",
       " 'de',\n",
       " 'cada',\n",
       " 'palavra',\n",
       " 'nesta',\n",
       " 'sequência']"
      ]
     },
     "execution_count": 56,
     "metadata": {},
     "output_type": "execute_result"
    }
   ],
   "source": [
    "lst"
   ]
  },
  {
   "cell_type": "code",
   "execution_count": 57,
   "metadata": {},
   "outputs": [
    {
     "data": {
      "text/plain": [
       "['C', 'u', 'l', 'd', 'p', 'l', 'd', 'c', 'p', 'n', 's']"
      ]
     },
     "execution_count": 57,
     "metadata": {},
     "output_type": "execute_result"
    }
   ],
   "source": [
    "lst1"
   ]
  }
 ],
 "metadata": {
  "kernelspec": {
   "display_name": "Python 3",
   "language": "python",
   "name": "python3"
  },
  "language_info": {
   "codemirror_mode": {
    "name": "ipython",
    "version": 3
   },
   "file_extension": ".py",
   "mimetype": "text/x-python",
   "name": "python",
   "nbconvert_exporter": "python",
   "pygments_lexer": "ipython3",
   "version": "3.7.3"
  }
 },
 "nbformat": 4,
 "nbformat_minor": 1
}
