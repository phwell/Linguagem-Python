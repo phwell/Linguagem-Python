{
 "cells": [
  {
   "cell_type": "markdown",
   "metadata": {},
   "source": [
    "# Arquivos\n",
    "\n",
    "Documentação https://docs.python.org/3/tutorial/inputoutput.html#reading-and-writing-files\n",
    "\n",
    "O Python usa objetos de arquivo para interagir com arquivos externos no seu computador. Esses objetos de arquivo podem ser qualquer tipo de arquivo existente no seu computador, seja um arquivo de áudio, um arquivo de texto, emails, documentos do Excel etc. Nota: Você provavelmente precisará instalar determinadas bibliotecas ou módulos para interagir com os vários tipos de arquivo, mas eles estão facilmente disponíveis. (Abordaremos módulos posteriormente).\n",
    "\n",
    "O Python possui uma função aberta integrada que nos permite abrir e brincar com tipos de arquivos básicos. Primeiro, precisaremos de um arquivo. Nós vamos usar um pouco de magia IPython para criar um arquivo de texto!\n",
    "\n",
    "## IPython gravando um arquivo\n",
    "#### Esta função é específica para notebooks jupyter! Como alternativa, crie rapidamente um arquivo .txt simples com um editor de texto sublime."
   ]
  },
  {
   "cell_type": "code",
   "execution_count": 7,
   "metadata": {},
   "outputs": [
    {
     "name": "stdout",
     "output_type": "stream",
     "text": [
      "Overwriting arquivo.txt\n"
     ]
    }
   ],
   "source": [
    "%%writefile arquivo.txt\n",
    "Olá, isto é o conteúdo de um arquivo para dsciplina de python aplicado a ciência de dados"
   ]
  },
  {
   "cell_type": "markdown",
   "metadata": {},
   "source": [
    "## Python Abrindo um arquivo\n",
    "\n",
    "Vamos abrir o arquivo arquivo.txt que está localizado no mesmo diretório deste notebook. Por enquanto, trabalharemos com arquivos localizados no mesmo diretório do notebook ou script .py que você está usando.\n",
    "\n",
    "É muito fácil obter um erro nesta etapa:"
   ]
  },
  {
   "cell_type": "code",
   "execution_count": 3,
   "metadata": {},
   "outputs": [],
   "source": [
    "myfile = open('arquivo.txt')"
   ]
  },
  {
   "cell_type": "markdown",
   "metadata": {},
   "source": [
    "Para evitar esse erro, verifique se o arquivo .txt está salvo no mesmo local do notebook, para verificar a localização do notebook, use **pwd**:"
   ]
  },
  {
   "cell_type": "code",
   "execution_count": 4,
   "metadata": {},
   "outputs": [
    {
     "data": {
      "text/plain": [
       "'/Users/ricardojosemenezesmaia/Documents/Ricardo/Desenvolvimento/uniceub/PosGraduacaoLatoSensu/PosGraduacaoEmCienciaDeDadosMachineLearning/02_Modulo2GestaoDeDados/01_IntroducaoaPythonParaCienciaDeDados/01_CursoIntrodutorioPython/01_ObjetosPythonEstruturasDados/01_ObjetosEstruturasDadosBasicas'"
      ]
     },
     "execution_count": 4,
     "metadata": {},
     "output_type": "execute_result"
    }
   ],
   "source": [
    "pwd"
   ]
  },
  {
   "cell_type": "markdown",
   "metadata": {},
   "source": [
    "** Como alternativa, para pegar arquivos de qualquer local do seu computador, basta passar o caminho inteiro do arquivo. **\n",
    "\n",
    "No Windows, você precisa usar double \\ para que o python não trate o segundo \\ como um caractere de escape, um caminho de arquivo está no formato:\n",
    "\n",
    "    meu_arquivo = open(\"C:\\\\Users\\\\ricardo\\\\Home\\\\pasta\\\\meu_arquivo.txt\")\n",
    "\n",
    "Para MacOS e Linux, você usa barras na direção oposta:\n",
    "\n",
    "    meu_arquivo = open(\"/Users/ricardojosemenezesmaia/python/meu_arquivo.txt\")"
   ]
  },
  {
   "cell_type": "code",
   "execution_count": 1,
   "metadata": {},
   "outputs": [],
   "source": [
    "# Abra o texto.txt que criamos anteriormente\n",
    "meu_arquivo = open('arquivo.txt')"
   ]
  },
  {
   "cell_type": "code",
   "execution_count": 2,
   "metadata": {},
   "outputs": [
    {
     "data": {
      "text/plain": [
       "'Olá, isto é o conteúdo de um arquivo para dsciplina de python aplicado a ciência de dados\\n'"
      ]
     },
     "execution_count": 2,
     "metadata": {},
     "output_type": "execute_result"
    }
   ],
   "source": [
    "# Agora podemos ler o arquivo\n",
    "meu_arquivo.read()"
   ]
  },
  {
   "cell_type": "code",
   "execution_count": 3,
   "metadata": {},
   "outputs": [
    {
     "data": {
      "text/plain": [
       "''"
      ]
     },
     "execution_count": 3,
     "metadata": {},
     "output_type": "execute_result"
    }
   ],
   "source": [
    "# Mas o que acontece se tentarmos lê-lo novamente?\n",
    "meu_arquivo.read()"
   ]
  },
  {
   "cell_type": "markdown",
   "metadata": {},
   "source": [
    "Isso acontece porque você pode imaginar que o \"cursor\" de leitura está no final do arquivo após a leitura. Portanto, não há mais nada para ler. Podemos redefinir o \"cursor\" assim:"
   ]
  },
  {
   "cell_type": "code",
   "execution_count": 4,
   "metadata": {},
   "outputs": [
    {
     "data": {
      "text/plain": [
       "0"
      ]
     },
     "execution_count": 4,
     "metadata": {},
     "output_type": "execute_result"
    }
   ],
   "source": [
    "# Procure o início do arquivo (índice 0)\n",
    "meu_arquivo.seek(0)"
   ]
  },
  {
   "cell_type": "code",
   "execution_count": 5,
   "metadata": {},
   "outputs": [
    {
     "data": {
      "text/plain": [
       "'Olá, isto é o conteúdo de um arquivo para dsciplina de python aplicado a ciência de dados\\n'"
      ]
     },
     "execution_count": 5,
     "metadata": {},
     "output_type": "execute_result"
    }
   ],
   "source": [
    "# Agora iremos ler novamente\n",
    "meu_arquivo.read()"
   ]
  },
  {
   "cell_type": "markdown",
   "metadata": {},
   "source": [
    "Você pode ler um arquivo linha por linha usando o método readlines. Tenha cuidado com arquivos grandes, pois tudo ficará na memória. Aprenderemos como iterar em arquivos grandes posteriormente neste curso."
   ]
  },
  {
   "cell_type": "code",
   "execution_count": 7,
   "metadata": {},
   "outputs": [
    {
     "data": {
      "text/plain": [
       "['Olá, isto é o conteúdo de um arquivo para dsciplina de python aplicado a ciência de dados\\n']"
      ]
     },
     "execution_count": 7,
     "metadata": {},
     "output_type": "execute_result"
    }
   ],
   "source": [
    "# Readlines retorna uma lista das linhas no arquivo\n",
    "meu_arquivo.seek(0)\n",
    "meu_arquivo.readlines()"
   ]
  },
  {
   "cell_type": "markdown",
   "metadata": {},
   "source": [
    "Quando você termina de usar um arquivo, é sempre uma boa prática fechá-lo."
   ]
  },
  {
   "cell_type": "code",
   "execution_count": 23,
   "metadata": {},
   "outputs": [],
   "source": [
    "meu_arquivo.close()"
   ]
  },
  {
   "cell_type": "markdown",
   "metadata": {},
   "source": [
    "## Escrevendo em um Arquivo\n",
    "\n",
    "Por padrão, a função `open()` nos permitirá apenas ler o arquivo. Precisamos passar o argumento ``w`` para escrever sobre o arquivo. Por exemplo:"
   ]
  },
  {
   "cell_type": "code",
   "execution_count": 8,
   "metadata": {},
   "outputs": [],
   "source": [
    "# Adicione um segundo argumento à função 'w', que significa write.\n",
    "# Passar 'w+' permite ler e gravar no arquivo\n",
    "\n",
    "meu_arquivo = open('arquivo.txt','w+')"
   ]
  },
  {
   "cell_type": "markdown",
   "metadata": {},
   "source": [
    "### <strong><font color='red'>Tenha cuidado!</font></strong> \n",
    "Abrir um arquivo com ``w`` ou ``w+`` trunca o original, o que significa que tudo o que estava no arquivo original **é excluído**!"
   ]
  },
  {
   "cell_type": "code",
   "execution_count": 12,
   "metadata": {},
   "outputs": [
    {
     "data": {
      "text/plain": [
       "21"
      ]
     },
     "execution_count": 12,
     "metadata": {},
     "output_type": "execute_result"
    }
   ],
   "source": [
    "# Escrevendo no arquivo\n",
    "meu_arquivo.write('Isto é uma nova linha\\n')"
   ]
  },
  {
   "cell_type": "code",
   "execution_count": 15,
   "metadata": {},
   "outputs": [
    {
     "data": {
      "text/plain": [
       "['Isto é uma nova linhaIsto é uma nova linhaIsto é uma nova linha']"
      ]
     },
     "execution_count": 15,
     "metadata": {},
     "output_type": "execute_result"
    }
   ],
   "source": [
    "# Lendo o arquivo\n",
    "meu_arquivo.seek(0)\n",
    "meu_arquivo.readlines()"
   ]
  },
  {
   "cell_type": "code",
   "execution_count": 31,
   "metadata": {},
   "outputs": [],
   "source": [
    "meu_arquivo.close()  # sempre faça isso quando terminar um arquivo"
   ]
  },
  {
   "cell_type": "markdown",
   "metadata": {},
   "source": [
    "## Acrescentando novas linhas ao Arquivo\n",
    "Passar o argumento ``a`` abre o arquivo e coloca o ponteiro no final, para que qualquer coisa escrita seja anexada. Como ``w+``, ``a+`` nos permite ler e gravar em um arquivo. Se o arquivo não existir, um será criado."
   ]
  },
  {
   "cell_type": "code",
   "execution_count": 32,
   "metadata": {},
   "outputs": [
    {
     "data": {
      "text/plain": [
       "20"
      ]
     },
     "execution_count": 32,
     "metadata": {},
     "output_type": "execute_result"
    }
   ],
   "source": [
    "meu_arquivo = open('arquivo.txt','a+')\n",
    "meu_arquivo.write('\\nIsto é um texto sendo anexado a arquivo.txt')\n",
    "meu_arquivo.write('\\nE outra linha aqui.')"
   ]
  },
  {
   "cell_type": "code",
   "execution_count": 33,
   "metadata": {},
   "outputs": [
    {
     "name": "stdout",
     "output_type": "stream",
     "text": [
      "Isto é uma nova linha\n",
      "Isto é um texto sendo anexado a arquivo.txt\n",
      "E outra linha aqui.\n"
     ]
    }
   ],
   "source": [
    "meu_arquivo.seek(0)\n",
    "print(meu_arquivo.read())"
   ]
  },
  {
   "cell_type": "code",
   "execution_count": 34,
   "metadata": {},
   "outputs": [],
   "source": [
    "meu_arquivo.close()"
   ]
  },
  {
   "cell_type": "markdown",
   "metadata": {},
   "source": [
    "### Acrescentando novas linhas com `%%writefile`\n",
    "Podemos fazer o mesmo usando a magia de célula IPython:"
   ]
  },
  {
   "cell_type": "code",
   "execution_count": 35,
   "metadata": {},
   "outputs": [
    {
     "name": "stdout",
     "output_type": "stream",
     "text": [
      "Appending to arquivo.txt\n"
     ]
    }
   ],
   "source": [
    "%%writefile -a arquivo.txt\n",
    "\n",
    "Este é o texto que está sendo anexado ao arquivo.txt\n",
    "E outra linha aqui."
   ]
  },
  {
   "cell_type": "markdown",
   "metadata": {},
   "source": [
    "Adicione um espaço em branco se desejar que a primeira linha comece em sua própria linha, pois o Jupyter não reconhecerá seqüências de escape como `\\n`"
   ]
  },
  {
   "cell_type": "markdown",
   "metadata": {},
   "source": [
    "## Iterando através de um Arquivo\n",
    "\n",
    "Permite obter uma visualização rápida de um loop for iterando sobre um arquivo de texto. Primeiro vamos criar um novo arquivo de texto com algum IPython Magic:"
   ]
  },
  {
   "cell_type": "code",
   "execution_count": 36,
   "metadata": {},
   "outputs": [
    {
     "name": "stdout",
     "output_type": "stream",
     "text": [
      "Overwriting arquivo.txt\n"
     ]
    }
   ],
   "source": [
    "%%writefile arquivo.txt\n",
    "Primeira linha\n",
    "Segunda linha"
   ]
  },
  {
   "cell_type": "markdown",
   "metadata": {},
   "source": [
    "Agora podemos usar um pouco de fluxo para instruir o programa a percorrer todas as linhas do arquivo e fazer algo:"
   ]
  },
  {
   "cell_type": "code",
   "execution_count": 39,
   "metadata": {},
   "outputs": [
    {
     "name": "stdout",
     "output_type": "stream",
     "text": [
      "Primeira linha\n",
      "\n",
      "Segunda linha\n",
      "\n"
     ]
    }
   ],
   "source": [
    "for linha in open('arquivo.txt'):\n",
    "    print(linha)"
   ]
  },
  {
   "cell_type": "markdown",
   "metadata": {},
   "source": [
    "Não se preocupe em entender isso ainda, pois os loops estão chegando em breve. Mas vamos detalhar o que fizemos acima. Dissemos que, para cada linha desse arquivo de texto, imprima essa linha. É importante observar algumas coisas aqui:\n",
    "\n",
    "1. Poderíamos ter dado  o nome ao objeto \"linha\" de qualquer outro (veja o exemplo abaixo onde chamamos de asdf).\n",
    "2. Ao não chamar `.read()` no arquivo, o arquivo de texto inteiro não foi armazenado na memória.\n",
    "3. Observe o recuo na segunda linha para impressão. Esse espaço em branco é necessário no Python."
   ]
  },
  {
   "cell_type": "code",
   "execution_count": 40,
   "metadata": {},
   "outputs": [
    {
     "name": "stdout",
     "output_type": "stream",
     "text": [
      "Primeira linha\n",
      "\n",
      "Segunda linha\n",
      "\n"
     ]
    }
   ],
   "source": [
    "# Pertencente ao primeiro ponto acima\n",
    "for asdf in open('arquivo.txt'):\n",
    "    print(asdf)"
   ]
  }
 ],
 "metadata": {
  "kernelspec": {
   "display_name": "Python 3",
   "language": "python",
   "name": "python3"
  },
  "language_info": {
   "codemirror_mode": {
    "name": "ipython",
    "version": 3
   },
   "file_extension": ".py",
   "mimetype": "text/x-python",
   "name": "python",
   "nbconvert_exporter": "python",
   "pygments_lexer": "ipython3",
   "version": "3.7.3"
  }
 },
 "nbformat": 4,
 "nbformat_minor": 1
}
