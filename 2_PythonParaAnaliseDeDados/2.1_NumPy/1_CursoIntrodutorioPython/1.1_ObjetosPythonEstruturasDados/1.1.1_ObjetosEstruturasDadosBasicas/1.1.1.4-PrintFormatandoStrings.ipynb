{
 "cells": [
  {
   "cell_type": "markdown",
   "metadata": {},
   "source": [
    "# Formatando String\n",
    "\n",
    "A formatação de sequência permite injetar nos itens de sequência em vez de tentar encadear itens usando vírgulas ou concatenação de sequência. Como uma comparação rápida, considere:\n",
    "\n",
    "jogador = 'Jorge'\n",
    "pontos = 33\n",
    "\n",
    "'Ontem à noite,' + jogador + 'marcou' + str (pontos) + 'pontos'. # concatenação\n",
    "\n",
    "Na noite passada, {player} marcou {points} pontos. '# formatação de string\n",
    "\n",
    "\n",
    "Existem três maneiras de executar a formatação de string.\n",
    "* O método mais antigo envolve espaços reservados usando o módulo de caracteres `%`.\n",
    "* Uma técnica aprimorada usa o método `.format ()`.\n",
    "* O método mais recente, Introduzido no Python 3.6, usa literais de string formatados, chamados string **f**.\n",
    "\n",
    "Como você provavelmente encontrará as três versões no código de outra pessoa, descrevemos cada uma delas aqui.\n",
    "\n",
    "Documentação https://docs.python.org/3/whatsnew/2.6.html#pep-3101-advanced-string-formatting\n",
    "\n"
   ]
  },
  {
   "cell_type": "markdown",
   "metadata": {},
   "source": [
    "## Formatação com espaços reservados\n",
    "Você pode usar <code>%s</code> para injetar strings nas instruções de impressão. O módulo `%` é chamado de \"operador de formatação de string\"."
   ]
  },
  {
   "cell_type": "code",
   "execution_count": 2,
   "metadata": {},
   "outputs": [
    {
     "name": "stdout",
     "output_type": "stream",
     "text": [
      "Vou injetar alguma coisa aqui.\n"
     ]
    }
   ],
   "source": [
    "print (\"Vou injetar %s aqui.\"% 'alguma coisa')"
   ]
  },
  {
   "cell_type": "markdown",
   "metadata": {},
   "source": [
    "Você pode passar vários itens colocando-os dentro de uma tupla após o operador `%`."
   ]
  },
  {
   "cell_type": "code",
   "execution_count": 1,
   "metadata": {},
   "outputs": [
    {
     "name": "stdout",
     "output_type": "stream",
     "text": [
      "Vou injetar algo texto aqui e mais texto aqui.\n"
     ]
    }
   ],
   "source": [
    "print (\"Vou injetar %s texto aqui e %s texto aqui.\"% ('algo', 'mais'))"
   ]
  },
  {
   "cell_type": "markdown",
   "metadata": {},
   "source": [
    "Você também pode passar nomes de variáveis:"
   ]
  },
  {
   "cell_type": "code",
   "execution_count": 2,
   "metadata": {},
   "outputs": [
    {
     "name": "stdout",
     "output_type": "stream",
     "text": [
      "Vou injetar alguns texto aqui e mais texto aqui.\n"
     ]
    }
   ],
   "source": [
    "x, y = 'alguns', 'mais'\n",
    "print (\"Vou injetar %s texto aqui e %s texto aqui.\"% (x, y))"
   ]
  },
  {
   "cell_type": "markdown",
   "metadata": {},
   "source": [
    "### Format métodos de conversão.\n",
    "Deve-se notar que dois métodos <code>%s</code> e <code>%r</code> convertem qualquer objeto python em uma string usando dois métodos separados: `str()` e `repr()`. Aprenderemos mais sobre essas funções mais adiante neste curso, mas você deve observar que `%r` e `repr()` entregam a **representação de string** do objeto, incluindo aspas e quaisquer caracteres de escape."
   ]
  },
  {
   "cell_type": "code",
   "execution_count": 3,
   "metadata": {},
   "outputs": [
    {
     "name": "stdout",
     "output_type": "stream",
     "text": [
      "Ele disse que seu nome era Fred.\n",
      "Ele disse que seu nome era 'Fred'.\n"
     ]
    }
   ],
   "source": [
    "print ('Ele disse que seu nome era %s.' % 'Fred')\n",
    "print ('Ele disse que seu nome era %r.' % 'Fred')"
   ]
  },
  {
   "cell_type": "markdown",
   "metadata": {},
   "source": [
    "As another example, `\\t` inserts a tab into a string."
   ]
  },
  {
   "cell_type": "code",
   "execution_count": 4,
   "metadata": {},
   "outputs": [
    {
     "name": "stdout",
     "output_type": "stream",
     "text": [
      "Eu peguei um peixe muito \t grande.\n",
      "uma vez peguei um peixe 'muito \\t grande'.\n"
     ]
    }
   ],
   "source": [
    "print('Eu peguei um peixe %s.'%'muito \\t grande')\n",
    "print('uma vez peguei um peixe %r.'%'muito \\t grande')"
   ]
  },
  {
   "cell_type": "markdown",
   "metadata": {},
   "source": [
    "O operador `%s` converte o que vê em uma string, incluindo números inteiros e flutuantes. O operador `%d` converte números em números inteiros primeiro, sem arredondamento. Observe a diferença abaixo:"
   ]
  },
  {
   "cell_type": "code",
   "execution_count": 5,
   "metadata": {},
   "outputs": [
    {
     "name": "stdout",
     "output_type": "stream",
     "text": [
      "escrevi 3.75 programas hoje.\n",
      "escrevi 3 programas hoje.\n"
     ]
    }
   ],
   "source": [
    "print ('escrevi %s programas hoje.'% 3.75)\n",
    "print ('escrevi %d programas hoje.'% 3.75)"
   ]
  },
  {
   "cell_type": "markdown",
   "metadata": {},
   "source": [
    "### Preenchimento e precisão de números de ponto flutuante\n",
    "Os números de ponto flutuante usam o formato <code>%5.2f</code>. Aqui, <code>5</code> seria o número mínimo de caracteres que a string deve conter; estes podem ser preenchidos com espaço em branco se o número inteiro não tiver tantos dígitos. Além disso, <code>.2f</code> representa quantos números serão exibidos após o ponto decimal. Vamos ver alguns exemplos:"
   ]
  },
  {
   "cell_type": "code",
   "execution_count": 6,
   "metadata": {},
   "outputs": [
    {
     "name": "stdout",
     "output_type": "stream",
     "text": [
      "Números em ponto flutuante: 13.14\n"
     ]
    }
   ],
   "source": [
    "print('Números em ponto flutuante: %5.2f' %(13.144))"
   ]
  },
  {
   "cell_type": "code",
   "execution_count": 7,
   "metadata": {},
   "outputs": [
    {
     "name": "stdout",
     "output_type": "stream",
     "text": [
      "Números em ponto flutuante: 13\n"
     ]
    }
   ],
   "source": [
    "print('Números em ponto flutuante: %1.0f' %(13.144))"
   ]
  },
  {
   "cell_type": "code",
   "execution_count": 8,
   "metadata": {},
   "outputs": [
    {
     "name": "stdout",
     "output_type": "stream",
     "text": [
      "Números em ponto flutuante: 13.14400\n"
     ]
    }
   ],
   "source": [
    "print('Números em ponto flutuante: %1.5f' %(13.144))"
   ]
  },
  {
   "cell_type": "code",
   "execution_count": 15,
   "metadata": {},
   "outputs": [
    {
     "name": "stdout",
     "output_type": "stream",
     "text": [
      "Números em ponto flutuante:      13.14\n"
     ]
    }
   ],
   "source": [
    "print('Números em ponto flutuante: %10.2f' %(13.144))"
   ]
  },
  {
   "cell_type": "code",
   "execution_count": 17,
   "metadata": {},
   "outputs": [
    {
     "name": "stdout",
     "output_type": "stream",
     "text": [
      "Números em ponto flutuante:                     13.14\n"
     ]
    }
   ],
   "source": [
    "print('Números em ponto flutuante: %25.2f' %(13.144))"
   ]
  },
  {
   "cell_type": "markdown",
   "metadata": {},
   "source": [
    "Para maiores informações https://docs.python.org/3/library/stdtypes.html#old-string-formatting"
   ]
  },
  {
   "cell_type": "markdown",
   "metadata": {},
   "source": [
    "### Multipla formatção\n",
    "Nada proíbe o uso de mais de uma ferramenta de conversão na mesma instrução de impressão:"
   ]
  },
  {
   "cell_type": "code",
   "execution_count": 18,
   "metadata": {},
   "outputs": [
    {
     "name": "stdout",
     "output_type": "stream",
     "text": [
      "Primeiro: Oi!, Segundo:  3.14, Terceiro: 'tchau!'\n"
     ]
    }
   ],
   "source": [
    "print('Primeiro: %s, Segundo: %5.2f, Terceiro: %r' %('Oi!',3.1415,'tchau!'))"
   ]
  },
  {
   "cell_type": "markdown",
   "metadata": {},
   "source": [
    "## Formatando com método `.format()` \n",
    "Uma maneira melhor de formatar objetos em suas seqüências de caracteres para instruções de impressão é com o método string `.format()`. A sintaxe é:\n",
    "\n",
    "    'String aqui {} então {}'.format('palavra1','palavra2')\n",
    "    \n",
    "Por exemplo:"
   ]
  },
  {
   "cell_type": "code",
   "execution_count": 19,
   "metadata": {},
   "outputs": [
    {
     "name": "stdout",
     "output_type": "stream",
     "text": [
      "Esta é uma string com um  inserção\n"
     ]
    }
   ],
   "source": [
    "print('Esta é uma string com uma {}'.format('inserção'))"
   ]
  },
  {
   "cell_type": "markdown",
   "metadata": {},
   "source": [
    "### O método .format() tem muitas vantagens sobre o método %s:"
   ]
  },
  {
   "cell_type": "markdown",
   "metadata": {},
   "source": [
    "#### 1. Os objetos inseridos podem ser chamados pela posição do índice:"
   ]
  },
  {
   "cell_type": "code",
   "execution_count": 25,
   "metadata": {},
   "outputs": [
    {
     "name": "stdout",
     "output_type": "stream",
     "text": [
      "A raposa marron é rápida\n"
     ]
    }
   ],
   "source": [
    "print('A {2} {1} {3} {0}'.format('rápida','marron','raposa', 'é'))"
   ]
  },
  {
   "cell_type": "markdown",
   "metadata": {},
   "source": [
    "#### 2. Objetos inseridos podem receber palavras-chave atribuídas:"
   ]
  },
  {
   "cell_type": "code",
   "execution_count": 27,
   "metadata": {},
   "outputs": [
    {
     "name": "stdout",
     "output_type": "stream",
     "text": [
      "Primeiro objeto: 1, Segundo objeto: Dois, Terceiro objeto: 12.3\n"
     ]
    }
   ],
   "source": [
    "print('Primeiro objeto: {a}, Segundo objeto: {b}, Terceiro objeto: {c}'.format(a=1,b='Dois',c=12.3))"
   ]
  },
  {
   "cell_type": "markdown",
   "metadata": {},
   "source": [
    "#### 3. Objetos inseridos podem ser reutilizados, evitando duplicação:"
   ]
  },
  {
   "cell_type": "code",
   "execution_count": 9,
   "metadata": {},
   "outputs": [
    {
     "name": "stdout",
     "output_type": "stream",
     "text": [
      "Um centavo poupado já é uma economia .\n",
      "Um centavo poupado já é uma economia.\n"
     ]
    }
   ],
   "source": [
    "print('Um %s poupado já é uma %s .' %('centavo','economia'))\n",
    "# versus.\n",
    "print('Um {p} poupado já é uma economia.'.format(p='centavo'))"
   ]
  },
  {
   "cell_type": "markdown",
   "metadata": {},
   "source": [
    "### Alinhamento, preenchimento e precisão com `.format()`\n",
    "Dentro das chaves, você pode atribuir comprimentos de campos, alinhamentos esquerdo direito, parâmetros de arredondamento e muito mais"
   ]
  },
  {
   "cell_type": "code",
   "execution_count": 27,
   "metadata": {},
   "outputs": [
    {
     "name": "stdout",
     "output_type": "stream",
     "text": [
      "Fruta    | Quantidade         \n",
      "Maça     |       3.0\n",
      "Laranjas |        10\n"
     ]
    }
   ],
   "source": [
    "print('{0:8} | {1:19}'.format('Fruta', 'Quantidade'))\n",
    "print('{0:8} | {1:9}'.format('Maça', 3.))\n",
    "print('{0:8} | {1:9}'.format('Laranjas', 10))"
   ]
  },
  {
   "cell_type": "markdown",
   "metadata": {},
   "source": [
    "Por padrão, `.format()` alinha o texto à esquerda e os números à direita. Você pode passar um `<`, `^` ou `>` opcional para definir um alinhamento à esquerda, ao centro ou à direita:"
   ]
  },
  {
   "cell_type": "code",
   "execution_count": 37,
   "metadata": {},
   "outputs": [
    {
     "name": "stdout",
     "output_type": "stream",
     "text": [
      "Esquerda |  Centro  |  Direita\n",
      "11       |    22    |       33\n"
     ]
    }
   ],
   "source": [
    "print('{0:<8} | {1:^8} | {2:>8}'.format('Esquerda','Centro','Direita'))\n",
    "print('{0:<8} | {1:^8} | {2:>8}'.format(11,22,33))"
   ]
  },
  {
   "cell_type": "markdown",
   "metadata": {},
   "source": [
    "You can precede the aligment operator with a padding character"
   ]
  },
  {
   "cell_type": "code",
   "execution_count": 38,
   "metadata": {},
   "outputs": [
    {
     "name": "stdout",
     "output_type": "stream",
     "text": [
      "Esquerda | -Centro- | .Direita\n",
      "11====== | ---22--- | ......33\n"
     ]
    }
   ],
   "source": [
    "print('{0:=<8} | {1:-^8} | {2:.>8}'.format('Esquerda','Centro','Direita'))\n",
    "print('{0:=<8} | {1:-^8} | {2:.>8}'.format(11,22,33))"
   ]
  },
  {
   "cell_type": "markdown",
   "metadata": {},
   "source": [
    "As larguras de campo e a precisão de flutuação são tratadas de maneira semelhante aos espaços reservados. As duas instruções de impressão a seguir são equivalentes:"
   ]
  },
  {
   "cell_type": "code",
   "execution_count": 39,
   "metadata": {},
   "outputs": [
    {
     "name": "stdout",
     "output_type": "stream",
     "text": [
      "Este é meu número de dez caracteres e duas casas decimais:     13.58\n",
      "Este é meu número de dez caracteres e duas casas decimais:     13.58\n"
     ]
    }
   ],
   "source": [
    "print('Este é meu número de dez caracteres e duas casas decimais:%10.2f' %13.579)\n",
    "print('Este é meu número de dez caracteres e duas casas decimais:{0:10.2f}'.format(13.579))"
   ]
  },
  {
   "cell_type": "markdown",
   "metadata": {},
   "source": [
    "Observe que existem 5 espaços após os dois pontos e 5 caracteres ocupados por 13,58, para um total de dez caracteres.\n",
    "\n",
    "Para mais informações sobre o método `.format()` https://docs.python.org/3/library/string.html#formatstrings"
   ]
  },
  {
   "cell_type": "markdown",
   "metadata": {},
   "source": [
    "## String Literal Formatada (f-strings)"
   ]
  },
  {
   "cell_type": "markdown",
   "metadata": {},
   "source": [
    "Introduzido no Python 3.6, as f-strings oferecem vários benefícios sobre o método de string `.format()` mais antigo descrito acima. Por um lado, você pode trazer variáveis externas imediatamente para a string em vez de passá-las como argumentos por meio de `.format(var)`."
   ]
  },
  {
   "cell_type": "code",
   "execution_count": 40,
   "metadata": {},
   "outputs": [
    {
     "name": "stdout",
     "output_type": "stream",
     "text": [
      "Ele disse que o nome dele é Frederico.\n"
     ]
    }
   ],
   "source": [
    "name = 'Frederico'\n",
    "\n",
    "print(f\"Ele disse que o nome dele é {name}.\")"
   ]
  },
  {
   "cell_type": "markdown",
   "metadata": {},
   "source": [
    "Passe `!r` para obter a representação da string:"
   ]
  },
  {
   "cell_type": "code",
   "execution_count": 45,
   "metadata": {},
   "outputs": [
    {
     "name": "stdout",
     "output_type": "stream",
     "text": [
      "Ele disse que o nome dele é 'Frederico'\n"
     ]
    }
   ],
   "source": [
    "print(f\"Ele disse que o nome dele é {name!r}\")"
   ]
  },
  {
   "cell_type": "markdown",
   "metadata": {},
   "source": [
    "#### A formatação para ponto flutuante  `\"result: {value:{width}.{precision}}\"`"
   ]
  },
  {
   "cell_type": "markdown",
   "metadata": {},
   "source": [
    "Onde o método `.format()` equivale `{valor:10.4f}`, com f-strings  `{value:{10}.{6}}`\n"
   ]
  },
  {
   "cell_type": "code",
   "execution_count": 49,
   "metadata": {},
   "outputs": [
    {
     "name": "stdout",
     "output_type": "stream",
     "text": [
      "Meus 10 caracteres, quatro decimais:   23.4568\n",
      "Meus 10 caracteres, quatro decimais:   23.4568\n"
     ]
    }
   ],
   "source": [
    "num = 23.45678\n",
    "print(\"Meus 10 caracteres, quatro decimais:{0:10.4f}\".format(num))\n",
    "print(f\"Meus 10 caracteres, quatro decimais:{num:{10}.{6}}\")"
   ]
  },
  {
   "cell_type": "markdown",
   "metadata": {},
   "source": [
    "Observe que, com as strings f, **precisão** refere-se ao número total de dígitos, não apenas aos que seguem o decimal. Isso se ajusta mais à notação científica e análise estatística. Infelizmente, as strings f não se ajustam à direita do decimal, mesmo que a precisão permita:"
   ]
  },
  {
   "cell_type": "code",
   "execution_count": 47,
   "metadata": {},
   "outputs": [
    {
     "name": "stdout",
     "output_type": "stream",
     "text": [
      "Meus 10 caracteres, quatro números decimais:   23.4500\n",
      "Meus 10 caracteres, quatro números decimais:     23.45\n"
     ]
    }
   ],
   "source": [
    "num = 23.45\n",
    "print(\"Meus 10 caracteres, quatro números decimais:{0:10.4f}\".format(num))\n",
    "print(f\"Meus 10 caracteres, quatro números decimais:{num:{10}.{6}}\")"
   ]
  },
  {
   "cell_type": "markdown",
   "metadata": {},
   "source": [
    "Se isso se torna importante, você sempre pode usar a sintaxe do método `.format()` dentro de uma string f:"
   ]
  },
  {
   "cell_type": "code",
   "execution_count": 51,
   "metadata": {},
   "outputs": [
    {
     "name": "stdout",
     "output_type": "stream",
     "text": [
      "Meus 10 caracteres, quatro números decimais:   23.4500\n",
      "Meus 10 caracteres, quatro números decimais:   23.4500\n"
     ]
    }
   ],
   "source": [
    "num = 23.45\n",
    "print(\"Meus 10 caracteres, quatro números decimais:{0:10.4f}\".format(num))\n",
    "print(f\"Meus 10 caracteres, quatro números decimais:{num:10.4f}\")"
   ]
  },
  {
   "cell_type": "markdown",
   "metadata": {},
   "source": [
    "Para maiores informações https://docs.python.org/3/reference/lexical_analysis.html#f-strings"
   ]
  }
 ],
 "metadata": {
  "kernelspec": {
   "display_name": "Python 3",
   "language": "python",
   "name": "python3"
  },
  "language_info": {
   "codemirror_mode": {
    "name": "ipython",
    "version": 3
   },
   "file_extension": ".py",
   "mimetype": "text/x-python",
   "name": "python",
   "nbconvert_exporter": "python",
   "pygments_lexer": "ipython3",
   "version": "3.7.3"
  }
 },
 "nbformat": 4,
 "nbformat_minor": 1
}
